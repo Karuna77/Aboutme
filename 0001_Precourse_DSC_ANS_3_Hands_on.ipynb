{
  "nbformat": 4,
  "nbformat_minor": 0,
  "metadata": {
    "colab": {
      "name": "0001_Precourse_DSC_ANS_3_Hands_on.ipynb",
      "provenance": [],
      "collapsed_sections": [],
      "toc_visible": true,
      "machine_shape": "hm",
      "include_colab_link": true
    },
    "kernelspec": {
      "name": "python3",
      "display_name": "Python 3"
    }
  },
  "cells": [
    {
      "cell_type": "markdown",
      "metadata": {
        "id": "view-in-github",
        "colab_type": "text"
      },
      "source": [
        "<a href=\"https://colab.research.google.com/github/Karuna77/Aboutme/blob/master/0001_Precourse_DSC_ANS_3_Hands_on.ipynb\" target=\"_parent\"><img src=\"https://colab.research.google.com/assets/colab-badge.svg\" alt=\"Open In Colab\"/></a>"
      ]
    },
    {
      "cell_type": "markdown",
      "metadata": {
        "id": "0Ws6Y2K_Wpa_",
        "colab_type": "text"
      },
      "source": [
        "# CMU DSC 2020"
      ]
    },
    {
      "cell_type": "markdown",
      "metadata": {
        "id": "jlwTUZ_JMO92",
        "colab_type": "text"
      },
      "source": [
        "# 1. Your first program"
      ]
    },
    {
      "cell_type": "code",
      "metadata": {
        "id": "ZonLNjfTJc9_",
        "colab_type": "code",
        "colab": {}
      },
      "source": [
        "#Example 1-1-1\n",
        "print (\"hello, world!\")"
      ],
      "execution_count": null,
      "outputs": []
    },
    {
      "cell_type": "code",
      "metadata": {
        "id": "mGJHT3CfJfHI",
        "colab_type": "code",
        "colab": {}
      },
      "source": [
        "# Quiz: 1\n",
        "# print any text out\n",
        "\n",
        "print (\"\")\n",
        "print (\"\")"
      ],
      "execution_count": null,
      "outputs": []
    },
    {
      "cell_type": "markdown",
      "metadata": {
        "id": "HYnRaI1_MULx",
        "colab_type": "text"
      },
      "source": [
        "# 2. Functions and Syntax"
      ]
    },
    {
      "cell_type": "code",
      "metadata": {
        "id": "JRAxYSbtJnNE",
        "colab_type": "code",
        "colab": {}
      },
      "source": [
        "#Example 1-1-3\n",
        "\n",
        "def MyFirstFunction():\n",
        "    print (\"มาเขียนโปรแกรมภาษา Python อย่างสนุกสนานกันเถอะ\")\n",
        "\n",
        "\n",
        "# Quiz: 2\n",
        "# Call the function"
      ],
      "execution_count": null,
      "outputs": []
    },
    {
      "cell_type": "markdown",
      "metadata": {
        "id": "oD-1u8I6MhRO",
        "colab_type": "text"
      },
      "source": [
        "# 3. Variables"
      ]
    },
    {
      "cell_type": "markdown",
      "metadata": {
        "id": "Yc67WVvyMzjB",
        "colab_type": "text"
      },
      "source": [
        "## How to declare a variable?"
      ]
    },
    {
      "cell_type": "code",
      "metadata": {
        "id": "2ppUN3MkJ6CW",
        "colab_type": "code",
        "colab": {}
      },
      "source": [
        "def func_1_2_1():\n",
        "    'รู้จักกับตัวแปร'\n",
        "    # Quiz 3\n",
        "    # complete all variables\n",
        "\n",
        "    print(a)\n",
        "    print (\"a =\", a)\n",
        "    print (\"b =\", b)\n",
        "    print (\"c =\", c)\n",
        "    print (\"d =\", d)\n",
        "    print (\"e =\", e)\n",
        "    print (\"f =\", f)\n",
        "    print (\"g =\", g)\n",
        "    \n",
        "\n",
        "func_1_2_1()"
      ],
      "execution_count": null,
      "outputs": []
    },
    {
      "cell_type": "code",
      "metadata": {
        "id": "Ig783RrxuD-J",
        "colab_type": "code",
        "colab": {}
      },
      "source": [
        ""
      ],
      "execution_count": null,
      "outputs": []
    },
    {
      "cell_type": "markdown",
      "metadata": {
        "id": "_gRt5Oh4MpUb",
        "colab_type": "text"
      },
      "source": [
        "## Type of variables"
      ]
    },
    {
      "cell_type": "code",
      "metadata": {
        "id": "8FO8BIDYKBXj",
        "colab_type": "code",
        "colab": {}
      },
      "source": [
        "def func_1_2_2():\n",
        "    'ชนิดของตัวแปร'\n",
        "    \n",
        "    a = 2\n",
        "    b = 3.1416\n",
        "    c = \"ABC\"\n",
        "    d = True\n",
        "    e = False\n",
        "    f = 4+3j\n",
        "    g = None\n",
        "\n",
        "\n",
        "    # Quiz 4\n",
        "    # Here\n",
        "\n",
        "func_1_2_2()"
      ],
      "execution_count": null,
      "outputs": []
    },
    {
      "cell_type": "markdown",
      "metadata": {
        "id": "4XZAfGuWM_c-",
        "colab_type": "text"
      },
      "source": [
        "# Mathematic operations"
      ]
    },
    {
      "cell_type": "code",
      "metadata": {
        "id": "2sHxNlN3KbNd",
        "colab_type": "code",
        "colab": {}
      },
      "source": [
        "'การคำนวณทางคณิตศาสตร์'\n",
        "a = 2\n",
        "b = 10\n",
        "\n",
        "print (\"a+b =\",a+b)\n",
        "print (\"a-b =\",a-b)\n",
        "print (\"a*b =\",a*b)\n",
        "print (\"a/b =\",a/b)\n",
        "print (\"a%b =\",a%b)\n",
        "print (\"a**b (a power b) =\",a**b)\n",
        "print (\"(a+b)*(a-b)/13 =\",(a+b)*(a-b)/13)\n"
      ],
      "execution_count": null,
      "outputs": []
    },
    {
      "cell_type": "markdown",
      "metadata": {
        "id": "jjzSzPrPGJSl",
        "colab_type": "text"
      },
      "source": [
        "What is the answer of this equation: $(a+b)^2 + a^2 + b^2$ "
      ]
    },
    {
      "cell_type": "code",
      "metadata": {
        "id": "-lTEX-tlHL7p",
        "colab_type": "code",
        "colab": {}
      },
      "source": [
        "# Quiz 5"
      ],
      "execution_count": null,
      "outputs": []
    },
    {
      "cell_type": "markdown",
      "metadata": {
        "id": "lL32QGM0PxH4",
        "colab_type": "text"
      },
      "source": [
        "# Keyboard Input & type convertion"
      ]
    },
    {
      "cell_type": "code",
      "metadata": {
        "id": "wLCX3IJuLFrb",
        "colab_type": "code",
        "colab": {
          "base_uri": "https://localhost:8080/",
          "height": 187
        },
        "outputId": "9bf70918-9acd-4101-b953-4f483dbdf697"
      },
      "source": [
        "x = input (\"Input x \")\n",
        "print (\"x=\",x)\n",
        "print (\"x=\",x,type(x))\n",
        "print (\"x+3 =\",x+\"3\")\n",
        "print(\"-----------\")\n",
        "\n",
        "# Quiz 6\n",
        "x = int(x)\n",
        "\n",
        "# Quiz 7\n",
        "x = float(x)\n"
      ],
      "execution_count": null,
      "outputs": [
        {
          "output_type": "stream",
          "text": [
            "Input x 9\n",
            "x= 9\n",
            "x= 9 <class 'str'>\n",
            "x+3 = 93\n",
            "-----------\n",
            "int(x) = 9 <class 'int'>\n",
            "x+3 = 12\n",
            "-----------\n",
            "float(x) = 9.0 <class 'float'>\n",
            "x+3 = 12.0\n"
          ],
          "name": "stdout"
        }
      ]
    },
    {
      "cell_type": "markdown",
      "metadata": {
        "id": "7WHFfsBsM9yK",
        "colab_type": "text"
      },
      "source": [
        "# Boolean & Conditional Statements"
      ]
    },
    {
      "cell_type": "code",
      "metadata": {
        "id": "D52HDZxBKquE",
        "colab_type": "code",
        "colab": {}
      },
      "source": [
        "a=True;\n",
        "b=False\n",
        "\n",
        "\n",
        "print (\"Not True =\",not(a))\n",
        "print (\"a==a is\",a==a)\n",
        "print (\"9==8 is\",a==b)\n",
        "\n",
        "# Quiz 8\n",
        "# Complete the code and guess the result before RUN\n",
        "# "
      ],
      "execution_count": null,
      "outputs": []
    },
    {
      "cell_type": "code",
      "metadata": {
        "id": "CMwgoJGbESh_",
        "colab_type": "code",
        "colab": {
          "base_uri": "https://localhost:8080/",
          "height": 51
        },
        "outputId": "86a6ac32-1921-477b-bf32-6b6209038e29"
      },
      "source": [
        "# Quiz 9\n",
        "# Complete the code"
      ],
      "execution_count": null,
      "outputs": [
        {
          "output_type": "stream",
          "text": [
            "x value =  4\n",
            "Do [3]\n"
          ],
          "name": "stdout"
        }
      ]
    },
    {
      "cell_type": "markdown",
      "metadata": {
        "id": "52qrFL1_IaCD",
        "colab_type": "text"
      },
      "source": [
        "# Guessing game"
      ]
    },
    {
      "cell_type": "code",
      "metadata": {
        "id": "uHRf1nkwLle2",
        "colab_type": "code",
        "colab": {
          "base_uri": "https://localhost:8080/",
          "height": 51
        },
        "outputId": "9a7d475b-6ea6-4a0c-973e-44de1bd30101"
      },
      "source": [
        "def func_1_3_4():\n",
        "    'พัฒนาเกมทายตัวเลข'\n",
        "\n",
        "    x=input(\"Input x (guess 1-10) \")\n",
        "\n",
        "    if x==\"10\":\n",
        "        print (\"Yes, you win x=10!!!\")\n",
        "    elif x==\"9\":\n",
        "        print (\"Too low, try again (try 11)\")\n",
        "    elif x==\"11\":\n",
        "        print (\"Too high, try again (try 10)\")\n",
        "    else:\n",
        "        print (\"Nooo, try again (try 11)\")\n",
        "        \n",
        "func_1_3_4()"
      ],
      "execution_count": null,
      "outputs": [
        {
          "output_type": "stream",
          "text": [
            "Input x (guess 1-10) 10\n",
            "Yes, you win x=10!!!\n"
          ],
          "name": "stdout"
        }
      ]
    },
    {
      "cell_type": "markdown",
      "metadata": {
        "id": "CD8MyA2WQvOl",
        "colab_type": "text"
      },
      "source": [
        "# List"
      ]
    },
    {
      "cell_type": "code",
      "metadata": {
        "id": "8LBL35ouQwl5",
        "colab_type": "code",
        "colab": {}
      },
      "source": [
        "# Quiz 10\n",
        "# comple the coode with \n",
        "# variable declaration\n",
        "\n",
        "print (\"a[0] =\", a[0])\n",
        "print (\"b[0] =\", b[0])\n",
        "\n",
        "print (\"a[-2] =\", a[-2])\n",
        "print (\"a[1:4]\", a[1:4])\n"
      ],
      "execution_count": null,
      "outputs": []
    },
    {
      "cell_type": "markdown",
      "metadata": {
        "id": "HJTSEoLTQ8O4",
        "colab_type": "text"
      },
      "source": [
        "## Nested List"
      ]
    },
    {
      "cell_type": "code",
      "metadata": {
        "id": "nX_XMCU2QxVT",
        "colab_type": "code",
        "colab": {
          "base_uri": "https://localhost:8080/",
          "height": 85
        },
        "outputId": "fb89da9c-28da-4ad2-f34c-c0926b15b81e"
      },
      "source": [
        "# More advanced example\n",
        "a = [[3,4,5], \n",
        "    [6,7,8], \n",
        "    ['a','b','hello']]\n",
        "\n",
        "print (a)\n",
        "print (a[1])\n",
        "print (a[2][1])\n",
        "print (a[2][2][2])"
      ],
      "execution_count": null,
      "outputs": [
        {
          "output_type": "stream",
          "text": [
            "[[3, 4, 5], [6, 7, 8], ['a', 'b', 'hello']]\n",
            "[6, 7, 8]\n",
            "b\n",
            "l\n"
          ],
          "name": "stdout"
        }
      ]
    },
    {
      "cell_type": "markdown",
      "metadata": {
        "id": "XjnmgMjqREDj",
        "colab_type": "text"
      },
      "source": [
        "## List Operations"
      ]
    },
    {
      "cell_type": "code",
      "metadata": {
        "id": "VS_B6jEcRM3w",
        "colab_type": "code",
        "colab": {
          "base_uri": "https://localhost:8080/",
          "height": 187
        },
        "outputId": "83b08041-ace4-4e78-9be2-50c753bc6069"
      },
      "source": [
        "a = [2,3,6,1,4,8,1,5,3]\n",
        "\n",
        "\n",
        "# Quiz 11\n",
        "# call sort() and reverse() of variable a\n",
        "\n",
        "print(\"------------\")\n",
        "print(min(a))\n",
        "print(max(a))\n",
        "print(\"------------\")\n",
        "\n",
        "print(a)\n",
        "# Quiz 12\n",
        "# a.append(99999)\n",
        "print(\"------------\")\n",
        "\n",
        "print(a)"
      ],
      "execution_count": null,
      "outputs": [
        {
          "output_type": "stream",
          "text": [
            "[2, 3, 6, 1, 4, 8, 1, 5, 3]\n",
            "[1, 1, 2, 3, 3, 4, 5, 6, 8]\n",
            "[8, 6, 5, 4, 3, 3, 2, 1, 1]\n",
            "------------\n",
            "1\n",
            "8\n",
            "------------\n",
            "[8, 6, 5, 4, 3, 3, 2, 1, 1]\n",
            "------------\n",
            "[8, 6, 5, 4, 3, 3, 2, 1, 1]\n"
          ],
          "name": "stdout"
        }
      ]
    },
    {
      "cell_type": "markdown",
      "metadata": {
        "id": "2Wvt_tKLDFyf",
        "colab_type": "text"
      },
      "source": [
        "# Loops"
      ]
    },
    {
      "cell_type": "markdown",
      "metadata": {
        "id": "fV2SyF3IDdBM",
        "colab_type": "text"
      },
      "source": [
        "## for loop"
      ]
    },
    {
      "cell_type": "code",
      "metadata": {
        "id": "9HGmmNHWJiss",
        "colab_type": "code",
        "colab": {
          "base_uri": "https://localhost:8080/",
          "height": 340
        },
        "outputId": "f1927bad-db6e-46aa-9ec4-2f20fd1c3025"
      },
      "source": [
        "for i in [1,2,3,4,5]:\n",
        "    print (i)\n",
        "print(\"---------\")\n",
        "\n",
        "for i in range(6):\n",
        "    print (i)\n",
        "print(\"---------\")\n",
        "\n",
        "for i in range(1, 6):\n",
        "    print (i)    \n",
        "print(\"---------\")\n",
        "\n",
        "for i in range(0, 6, 2):\n",
        "  print(i)  "
      ],
      "execution_count": null,
      "outputs": [
        {
          "output_type": "stream",
          "text": [
            "1\n",
            "2\n",
            "3\n",
            "4\n",
            "5\n",
            "0\n",
            "1\n",
            "2\n",
            "3\n",
            "4\n",
            "5\n",
            "1\n",
            "2\n",
            "3\n",
            "4\n",
            "5\n",
            "0\n",
            "2\n",
            "4\n"
          ],
          "name": "stdout"
        }
      ]
    },
    {
      "cell_type": "code",
      "metadata": {
        "id": "OTKuf621LvQh",
        "colab_type": "code",
        "colab": {}
      },
      "source": [
        ""
      ],
      "execution_count": null,
      "outputs": []
    },
    {
      "cell_type": "code",
      "metadata": {
        "id": "zQiapUGIJnl9",
        "colab_type": "code",
        "colab": {}
      },
      "source": [
        ""
      ],
      "execution_count": null,
      "outputs": []
    },
    {
      "cell_type": "code",
      "metadata": {
        "id": "2_OaD3q3LwK5",
        "colab_type": "code",
        "colab": {}
      },
      "source": [
        ""
      ],
      "execution_count": null,
      "outputs": []
    },
    {
      "cell_type": "markdown",
      "metadata": {
        "id": "aiWn0vXTDhgS",
        "colab_type": "text"
      },
      "source": [
        "## while loop"
      ]
    },
    {
      "cell_type": "code",
      "metadata": {
        "id": "L5ehMD7-L3ai",
        "colab_type": "code",
        "colab": {
          "base_uri": "https://localhost:8080/",
          "height": 51
        },
        "outputId": "bbc30c4b-b02d-4eac-ecb2-cd9dfd0650ec"
      },
      "source": [
        "# Quiz 13\n",
        "# complete the code in while loop\n",
        "while True:\n"
      ],
      "execution_count": null,
      "outputs": [
        {
          "output_type": "stream",
          "text": [
            "Input 1-10 (10 to Break) 10\n",
            "END LOOP!!!\n"
          ],
          "name": "stdout"
        }
      ]
    },
    {
      "cell_type": "markdown",
      "metadata": {
        "id": "ZM-fxPfWR-Km",
        "colab_type": "text"
      },
      "source": [
        "# Dictionary"
      ]
    },
    {
      "cell_type": "code",
      "metadata": {
        "id": "ha3xB1PKRkBe",
        "colab_type": "code",
        "colab": {}
      },
      "source": [
        "# Quiz  14\n",
        "# complete the value in map\n",
        "x = { \n",
        "    }\n",
        "\n",
        "print(x)\n",
        "print(x['a'])\n",
        "print(x['b'])"
      ],
      "execution_count": null,
      "outputs": []
    },
    {
      "cell_type": "markdown",
      "metadata": {
        "id": "hdrAwfueSnOA",
        "colab_type": "text"
      },
      "source": [
        "# Files"
      ]
    },
    {
      "cell_type": "markdown",
      "metadata": {
        "id": "0QVA97rpSokd",
        "colab_type": "text"
      },
      "source": [
        "## Write file"
      ]
    },
    {
      "cell_type": "code",
      "metadata": {
        "id": "BLx1eQE6R80F",
        "colab_type": "code",
        "colab": {
          "base_uri": "https://localhost:8080/",
          "height": 34
        },
        "outputId": "b2951644-74fc-45ca-f7b3-40dc09fa0c69"
      },
      "source": [
        "def func_1_10_2():\n",
        "    'เปิดไฟล์ และเขียนข้อมูลเพิ่ม ถ้าไม่มีไฟล์เดิม จะสร้างใหม่ให้'\n",
        "    try:\n",
        "        with open(\"test.txt\",\"a\") as f:\n",
        "            # Quiz 14\n",
        "            # Write some string!\n",
        "            f.write (\"Hello\\n\")\n",
        "            f.write (\"Append\\n\")\n",
        "        print (\"File Appended!!!\")\n",
        "    except:\n",
        "        print (\"Cannot open file\")\n",
        "\n",
        "\n",
        "func_1_10_2()"
      ],
      "execution_count": null,
      "outputs": [
        {
          "output_type": "stream",
          "text": [
            "File Appended!!!\n"
          ],
          "name": "stdout"
        }
      ]
    },
    {
      "cell_type": "code",
      "metadata": {
        "id": "jz_e9rNeJ7GC",
        "colab_type": "code",
        "colab": {
          "base_uri": "https://localhost:8080/",
          "height": 187
        },
        "outputId": "fbfa063a-4425-4a33-d847-9fbd168d2f47"
      },
      "source": [
        "!cat test.txt"
      ],
      "execution_count": null,
      "outputs": [
        {
          "output_type": "stream",
          "text": [
            "ch05_03-copy.csv  ch05_white.csv\tN-001_2020-03-03.csv  titanic.csv\n",
            "ch05_03.csv\t  drive\t\t\tsample_data\t      titanic.csv.1\n",
            "ch05_black.csv\t  N-001_2020-03-01.csv\tsin-cos.png\t      titanic.csv.2\n",
            "ch05_red.csv\t  N-001_2020-03-02.csv\ttest.txt\n",
            "Hello\n",
            "Append\n",
            "Hello\n",
            "Append\n",
            "Hello\n",
            "Append\n"
          ],
          "name": "stdout"
        }
      ]
    },
    {
      "cell_type": "markdown",
      "metadata": {
        "id": "ulVoHO8-SqNm",
        "colab_type": "text"
      },
      "source": [
        "## Read file\n",
        "\n",
        "\n",
        "\n"
      ]
    },
    {
      "cell_type": "code",
      "metadata": {
        "id": "mn5ElF6dStd8",
        "colab_type": "code",
        "colab": {
          "base_uri": "https://localhost:8080/",
          "height": 221
        },
        "outputId": "5b930f61-f01a-454e-8c50-7cdc8fd6da0d"
      },
      "source": [
        "def func_1_10_3():\n",
        "    'อ่านไฟล์'\n",
        "    try:\n",
        "        with open(\"test.txt\",\"r\") as f:\n",
        "            lines = f.readlines()\n",
        "            for line in lines:\n",
        "              print(line)\n",
        "    except:\n",
        "        print (\"Cannot open file\")\n",
        "\n",
        "func_1_10_3()"
      ],
      "execution_count": null,
      "outputs": [
        {
          "output_type": "stream",
          "text": [
            "Hello\n",
            "\n",
            "Append\n",
            "\n",
            "Hello\n",
            "\n",
            "Append\n",
            "\n",
            "Hello\n",
            "\n",
            "Append\n",
            "\n"
          ],
          "name": "stdout"
        }
      ]
    },
    {
      "cell_type": "code",
      "metadata": {
        "id": "FIulZ5VFSvB7",
        "colab_type": "code",
        "colab": {}
      },
      "source": [
        ""
      ],
      "execution_count": null,
      "outputs": []
    },
    {
      "cell_type": "markdown",
      "metadata": {
        "id": "iRTZAyp4WpWJ",
        "colab_type": "text"
      },
      "source": [
        "# Charts\n",
        "\n"
      ]
    },
    {
      "cell_type": "markdown",
      "metadata": {
        "id": "wa297TO3eHws",
        "colab_type": "text"
      },
      "source": [
        "## Line chart\n",
        "using matplotlib"
      ]
    },
    {
      "cell_type": "code",
      "metadata": {
        "id": "iNkla9GdWqXl",
        "colab_type": "code",
        "colab": {
          "base_uri": "https://localhost:8080/",
          "height": 295
        },
        "outputId": "8314da02-94c0-43e0-a3d1-dc2b6ef62a5c"
      },
      "source": [
        "# create a simple line chart!\n",
        "\n",
        "import matplotlib.pyplot as plt\n",
        " \n",
        "x  = [1, 2, 3, 4, 5]\n",
        "\n",
        "# Quiz 15\n",
        "# Fill y value to the y1 and y2 variable\n",
        "y1 = \n",
        "y2 = \n",
        "\n",
        "plt.plot(x, y1, label=\"line A\")\n",
        "plt.plot(x, y2, label=\"line B\")\n",
        "plt.plot()\n",
        "\n",
        "plt.xlabel(\"x axis\")\n",
        "plt.ylabel(\"y axis\")\n",
        "plt.title(\"Line Graph Example\")\n",
        "plt.legend()\n",
        "plt.show()"
      ],
      "execution_count": null,
      "outputs": [
        {
          "output_type": "display_data",
          "data": {
            "image/png": "[encoded data removed]",
            "text/plain": [
              "<Figure size 432x288 with 1 Axes>"
            ]
          },
          "metadata": {
            "tags": [],
            "needs_background": "light"
          }
        }
      ]
    },
    {
      "cell_type": "markdown",
      "metadata": {
        "id": "iDcRzhe0eKT3",
        "colab_type": "text"
      },
      "source": [
        "## Line chart with Trigonometric Ratio"
      ]
    },
    {
      "cell_type": "markdown",
      "metadata": {
        "id": "-bjwQZpOeBHI",
        "colab_type": "text"
      },
      "source": [
        "![alt text](https://www.math-only-math.com/images/xtrigonometrical-ratios-table.png.pagespeed.ic.cXkFV-xil3.webp)"
      ]
    },
    {
      "cell_type": "code",
      "metadata": {
        "id": "YBQhoCkjW_G-",
        "colab_type": "code",
        "colab": {
          "base_uri": "https://localhost:8080/",
          "height": 295
        },
        "outputId": "65415c7e-c385-4918-8189-0513c4a4f857"
      },
      "source": [
        "import matplotlib\n",
        "import matplotlib.pyplot as plt\n",
        "import numpy as np\n",
        "\n",
        "\n",
        "x = range(360)\n",
        "\n",
        "plt.grid(True)\n",
        "\n",
        "\n",
        "plt.plot(x, np.sin(np.deg2rad(x)), label=\"sin(x)\")\n",
        "# Quiz 16\n",
        "# plot a value of the cos function\n",
        "\n",
        "plt.legend()\n",
        "plt.xlabel(\"angle (degree)\")\n",
        "plt.title(\"My Graph\")\n",
        "\n",
        "plt.savefig(\"sin-cos.png\")"
      ],
      "execution_count": null,
      "outputs": [
        {
          "output_type": "display_data",
          "data": {
            "image/png": "[encoded data removed]",
            "text/plain": [
              "<Figure size 432x288 with 1 Axes>"
            ]
          },
          "metadata": {
            "tags": [],
            "needs_background": "light"
          }
        }
      ]
    },
    {
      "cell_type": "markdown",
      "metadata": {
        "id": "DRu37S6TfDmN",
        "colab_type": "text"
      },
      "source": [
        "# Pie chart"
      ]
    },
    {
      "cell_type": "code",
      "metadata": {
        "id": "TZljohRMPALV",
        "colab_type": "code",
        "colab": {}
      },
      "source": [
        "# More advanced charts\n",
        "\n",
        "import matplotlib.pyplot as plt\n",
        "\n",
        "labels = 'S1', 'S2', 'S3'\n",
        "# Quiz 16\n",
        "# RUN and SEE the result!\n",
        "sections = [20, 20, 60]\n",
        "colors = ['c', 'g', 'y']\n",
        "\n",
        "plt.pie(sections, labels=labels, colors=colors,\n",
        "        startangle=90,\n",
        "        autopct = '%1.2f%%')\n",
        "\n",
        "plt.axis('equal') # Try commenting this out.\n",
        "plt.title('Pie Chart Example')\n",
        "plt.show()"
      ],
      "execution_count": null,
      "outputs": []
    },
    {
      "cell_type": "code",
      "metadata": {
        "id": "sUy-1AavLB44",
        "colab_type": "code",
        "colab": {}
      },
      "source": [
        ""
      ],
      "execution_count": null,
      "outputs": []
    },
    {
      "cell_type": "markdown",
      "metadata": {
        "id": "IATE48FBLcnJ",
        "colab_type": "text"
      },
      "source": [
        "# Pandas\n",
        "\n",
        "\"Python Data Analysis Library\"\n"
      ]
    },
    {
      "cell_type": "markdown",
      "metadata": {
        "id": "h1nh6V5XXNj3",
        "colab_type": "text"
      },
      "source": [
        "## Write file using colab"
      ]
    },
    {
      "cell_type": "code",
      "metadata": {
        "id": "D_ohT2u7VUo5",
        "colab_type": "code",
        "colab": {
          "base_uri": "https://localhost:8080/",
          "height": 34
        },
        "outputId": "a2f12028-baac-498d-862f-156710e5b49a"
      },
      "source": [
        "%%writefile ch05_03.csv\n",
        "color,status,item1,item2,item3\n",
        "black,up,3,4,6\n",
        "black,down,2,6,7\n",
        "white,up,5,5,5\n",
        "white,down,3,3,2\n",
        "white,left,1,2,1\n",
        "red,up,2,2,2\n",
        "red,down,1,1,4"
      ],
      "execution_count": null,
      "outputs": [
        {
          "output_type": "stream",
          "text": [
            "Overwriting ch05_03.csv\n"
          ],
          "name": "stdout"
        }
      ]
    },
    {
      "cell_type": "markdown",
      "metadata": {
        "id": "7GWNbNy2XARU",
        "colab_type": "text"
      },
      "source": [
        "## pd.read_csv"
      ]
    },
    {
      "cell_type": "code",
      "metadata": {
        "id": "90o3HI5rVdCC",
        "colab_type": "code",
        "colab": {
          "base_uri": "https://localhost:8080/",
          "height": 266
        },
        "outputId": "94527d93-ebda-414b-ea0d-d0179cf3947f"
      },
      "source": [
        "import pandas as pd\n",
        "\n",
        "# read csv\n",
        "df = pd.read_csv('ch05_03.csv')\n",
        "df"
      ],
      "execution_count": null,
      "outputs": [
        {
          "output_type": "execute_result",
          "data": {
            "text/html": [
              "<div>\n",
              "<style scoped>\n",
              "    .dataframe tbody tr th:only-of-type {\n",
              "        vertical-align: middle;\n",
              "    }\n",
              "\n",
              "    .dataframe tbody tr th {\n",
              "        vertical-align: top;\n",
              "    }\n",
              "\n",
              "    .dataframe thead th {\n",
              "        text-align: right;\n",
              "    }\n",
              "</style>\n",
              "<table border=\"1\" class=\"dataframe\">\n",
              "  <thead>\n",
              "    <tr style=\"text-align: right;\">\n",
              "      <th></th>\n",
              "      <th>color</th>\n",
              "      <th>status</th>\n",
              "      <th>item1</th>\n",
              "      <th>item2</th>\n",
              "      <th>item3</th>\n",
              "    </tr>\n",
              "  </thead>\n",
              "  <tbody>\n",
              "    <tr>\n",
              "      <th>0</th>\n",
              "      <td>black</td>\n",
              "      <td>up</td>\n",
              "      <td>3</td>\n",
              "      <td>4</td>\n",
              "      <td>6</td>\n",
              "    </tr>\n",
              "    <tr>\n",
              "      <th>1</th>\n",
              "      <td>black</td>\n",
              "      <td>down</td>\n",
              "      <td>2</td>\n",
              "      <td>6</td>\n",
              "      <td>7</td>\n",
              "    </tr>\n",
              "    <tr>\n",
              "      <th>2</th>\n",
              "      <td>white</td>\n",
              "      <td>up</td>\n",
              "      <td>5</td>\n",
              "      <td>5</td>\n",
              "      <td>5</td>\n",
              "    </tr>\n",
              "    <tr>\n",
              "      <th>3</th>\n",
              "      <td>white</td>\n",
              "      <td>down</td>\n",
              "      <td>3</td>\n",
              "      <td>3</td>\n",
              "      <td>2</td>\n",
              "    </tr>\n",
              "    <tr>\n",
              "      <th>4</th>\n",
              "      <td>white</td>\n",
              "      <td>left</td>\n",
              "      <td>1</td>\n",
              "      <td>2</td>\n",
              "      <td>1</td>\n",
              "    </tr>\n",
              "    <tr>\n",
              "      <th>5</th>\n",
              "      <td>red</td>\n",
              "      <td>up</td>\n",
              "      <td>2</td>\n",
              "      <td>2</td>\n",
              "      <td>2</td>\n",
              "    </tr>\n",
              "    <tr>\n",
              "      <th>6</th>\n",
              "      <td>red</td>\n",
              "      <td>down</td>\n",
              "      <td>1</td>\n",
              "      <td>1</td>\n",
              "      <td>4</td>\n",
              "    </tr>\n",
              "  </tbody>\n",
              "</table>\n",
              "</div>"
            ],
            "text/plain": [
              "   color status  item1  item2  item3\n",
              "0  black     up      3      4      6\n",
              "1  black   down      2      6      7\n",
              "2  white     up      5      5      5\n",
              "3  white   down      3      3      2\n",
              "4  white   left      1      2      1\n",
              "5    red     up      2      2      2\n",
              "6    red   down      1      1      4"
            ]
          },
          "metadata": {
            "tags": []
          },
          "execution_count": 25
        }
      ]
    },
    {
      "cell_type": "markdown",
      "metadata": {
        "id": "DkA6SnS7Xgb-",
        "colab_type": "text"
      },
      "source": [
        "# Save dataframe to file and column selection"
      ]
    },
    {
      "cell_type": "code",
      "metadata": {
        "id": "tPPD2c3OXih8",
        "colab_type": "code",
        "colab": {}
      },
      "source": [
        "df.to_csv('ch05_03-copy.csv')\n",
        "\n",
        "# Quiz 17\n",
        "# uncomment and RUN to SEE the result\n",
        "\n",
        "\n",
        "# display(df[df['color'] == 'red'])\n",
        "# display(df[df['color'] == 'white'])\n",
        "# display(df[df['color'] == 'black'])"
      ],
      "execution_count": null,
      "outputs": []
    },
    {
      "cell_type": "code",
      "metadata": {
        "id": "aRfHErSxfo48",
        "colab_type": "code",
        "colab": {}
      },
      "source": [
        "df[df['color'] == 'black'].to_csv('ch05_black.csv', index=False)\n",
        "df[df['color'] == 'white'].to_csv('ch05_white.csv', index=False)\n",
        "df[df['color'] == 'red'].to_csv('ch05_red.csv', index=False)"
      ],
      "execution_count": null,
      "outputs": []
    },
    {
      "cell_type": "code",
      "metadata": {
        "id": "GXjm5uSt6j24",
        "colab_type": "code",
        "colab": {}
      },
      "source": [
        "!cat ch05_black.csv\n",
        "!cat ch05_white.csv\n",
        "!cat ch05_red.csv\n",
        "\n",
        "# display(pd.read_csv('ch05_black.csv'))\n",
        "# display(pd.read_csv('ch05_white.csv'))\n",
        "# display(pd.read_csv('ch05_red.csv'))"
      ],
      "execution_count": null,
      "outputs": []
    },
    {
      "cell_type": "markdown",
      "metadata": {
        "id": "XohA-x4u4wGM",
        "colab_type": "text"
      },
      "source": [
        "# Titanic Dataset"
      ]
    },
    {
      "cell_type": "code",
      "metadata": {
        "id": "npub0rrR5omg",
        "colab_type": "code",
        "colab": {}
      },
      "source": [
        "# Titanic Dataset"
      ],
      "execution_count": null,
      "outputs": []
    },
    {
      "cell_type": "code",
      "metadata": {
        "id": "xKt-K9ndMTqp",
        "colab_type": "code",
        "colab": {}
      },
      "source": [
        "! wget https://web.stanford.edu/class/archive/cs/cs109/cs109.1166/stuff/titanic.csv"
      ],
      "execution_count": null,
      "outputs": []
    },
    {
      "cell_type": "code",
      "metadata": {
        "id": "oBzEdCpyMpar",
        "colab_type": "code",
        "colab": {
          "base_uri": "https://localhost:8080/",
          "height": 453
        },
        "outputId": "31e67dec-3293-45fa-ab36-b364aed19864"
      },
      "source": [
        "import pandas as pd\n",
        "\n",
        "titanic_df = pd.read_csv('titanic.csv')\n",
        "titanic_df"
      ],
      "execution_count": null,
      "outputs": [
        {
          "output_type": "execute_result",
          "data": {
            "text/html": [
              "<div>\n",
              "<style scoped>\n",
              "    .dataframe tbody tr th:only-of-type {\n",
              "        vertical-align: middle;\n",
              "    }\n",
              "\n",
              "    .dataframe tbody tr th {\n",
              "        vertical-align: top;\n",
              "    }\n",
              "\n",
              "    .dataframe thead th {\n",
              "        text-align: right;\n",
              "    }\n",
              "</style>\n",
              "<table border=\"1\" class=\"dataframe\">\n",
              "  <thead>\n",
              "    <tr style=\"text-align: right;\">\n",
              "      <th></th>\n",
              "      <th>Survived</th>\n",
              "      <th>Pclass</th>\n",
              "      <th>Name</th>\n",
              "      <th>Sex</th>\n",
              "      <th>Age</th>\n",
              "      <th>Siblings/Spouses Aboard</th>\n",
              "      <th>Parents/Children Aboard</th>\n",
              "      <th>Fare</th>\n",
              "    </tr>\n",
              "  </thead>\n",
              "  <tbody>\n",
              "    <tr>\n",
              "      <th>0</th>\n",
              "      <td>0</td>\n",
              "      <td>3</td>\n",
              "      <td>Mr. Owen Harris Braund</td>\n",
              "      <td>male</td>\n",
              "      <td>22.0</td>\n",
              "      <td>1</td>\n",
              "      <td>0</td>\n",
              "      <td>7.2500</td>\n",
              "    </tr>\n",
              "    <tr>\n",
              "      <th>1</th>\n",
              "      <td>1</td>\n",
              "      <td>1</td>\n",
              "      <td>Mrs. John Bradley (Florence Briggs Thayer) Cum...</td>\n",
              "      <td>female</td>\n",
              "      <td>38.0</td>\n",
              "      <td>1</td>\n",
              "      <td>0</td>\n",
              "      <td>71.2833</td>\n",
              "    </tr>\n",
              "    <tr>\n",
              "      <th>2</th>\n",
              "      <td>1</td>\n",
              "      <td>3</td>\n",
              "      <td>Miss. Laina Heikkinen</td>\n",
              "      <td>female</td>\n",
              "      <td>26.0</td>\n",
              "      <td>0</td>\n",
              "      <td>0</td>\n",
              "      <td>7.9250</td>\n",
              "    </tr>\n",
              "    <tr>\n",
              "      <th>3</th>\n",
              "      <td>1</td>\n",
              "      <td>1</td>\n",
              "      <td>Mrs. Jacques Heath (Lily May Peel) Futrelle</td>\n",
              "      <td>female</td>\n",
              "      <td>35.0</td>\n",
              "      <td>1</td>\n",
              "      <td>0</td>\n",
              "      <td>53.1000</td>\n",
              "    </tr>\n",
              "    <tr>\n",
              "      <th>4</th>\n",
              "      <td>0</td>\n",
              "      <td>3</td>\n",
              "      <td>Mr. William Henry Allen</td>\n",
              "      <td>male</td>\n",
              "      <td>35.0</td>\n",
              "      <td>0</td>\n",
              "      <td>0</td>\n",
              "      <td>8.0500</td>\n",
              "    </tr>\n",
              "    <tr>\n",
              "      <th>...</th>\n",
              "      <td>...</td>\n",
              "      <td>...</td>\n",
              "      <td>...</td>\n",
              "      <td>...</td>\n",
              "      <td>...</td>\n",
              "      <td>...</td>\n",
              "      <td>...</td>\n",
              "      <td>...</td>\n",
              "    </tr>\n",
              "    <tr>\n",
              "      <th>882</th>\n",
              "      <td>0</td>\n",
              "      <td>2</td>\n",
              "      <td>Rev. Juozas Montvila</td>\n",
              "      <td>male</td>\n",
              "      <td>27.0</td>\n",
              "      <td>0</td>\n",
              "      <td>0</td>\n",
              "      <td>13.0000</td>\n",
              "    </tr>\n",
              "    <tr>\n",
              "      <th>883</th>\n",
              "      <td>1</td>\n",
              "      <td>1</td>\n",
              "      <td>Miss. Margaret Edith Graham</td>\n",
              "      <td>female</td>\n",
              "      <td>19.0</td>\n",
              "      <td>0</td>\n",
              "      <td>0</td>\n",
              "      <td>30.0000</td>\n",
              "    </tr>\n",
              "    <tr>\n",
              "      <th>884</th>\n",
              "      <td>0</td>\n",
              "      <td>3</td>\n",
              "      <td>Miss. Catherine Helen Johnston</td>\n",
              "      <td>female</td>\n",
              "      <td>7.0</td>\n",
              "      <td>1</td>\n",
              "      <td>2</td>\n",
              "      <td>23.4500</td>\n",
              "    </tr>\n",
              "    <tr>\n",
              "      <th>885</th>\n",
              "      <td>1</td>\n",
              "      <td>1</td>\n",
              "      <td>Mr. Karl Howell Behr</td>\n",
              "      <td>male</td>\n",
              "      <td>26.0</td>\n",
              "      <td>0</td>\n",
              "      <td>0</td>\n",
              "      <td>30.0000</td>\n",
              "    </tr>\n",
              "    <tr>\n",
              "      <th>886</th>\n",
              "      <td>0</td>\n",
              "      <td>3</td>\n",
              "      <td>Mr. Patrick Dooley</td>\n",
              "      <td>male</td>\n",
              "      <td>32.0</td>\n",
              "      <td>0</td>\n",
              "      <td>0</td>\n",
              "      <td>7.7500</td>\n",
              "    </tr>\n",
              "  </tbody>\n",
              "</table>\n",
              "<p>887 rows × 8 columns</p>\n",
              "</div>"
            ],
            "text/plain": [
              "     Survived  Pclass  ... Parents/Children Aboard     Fare\n",
              "0           0       3  ...                       0   7.2500\n",
              "1           1       1  ...                       0  71.2833\n",
              "2           1       3  ...                       0   7.9250\n",
              "3           1       1  ...                       0  53.1000\n",
              "4           0       3  ...                       0   8.0500\n",
              "..        ...     ...  ...                     ...      ...\n",
              "882         0       2  ...                       0  13.0000\n",
              "883         1       1  ...                       0  30.0000\n",
              "884         0       3  ...                       2  23.4500\n",
              "885         1       1  ...                       0  30.0000\n",
              "886         0       3  ...                       0   7.7500\n",
              "\n",
              "[887 rows x 8 columns]"
            ]
          },
          "metadata": {
            "tags": []
          },
          "execution_count": 31
        }
      ]
    },
    {
      "cell_type": "markdown",
      "metadata": {
        "id": "Nf9NyPVI-RPH",
        "colab_type": "text"
      },
      "source": [
        "## plot histogram of a Column in Dataframe"
      ]
    },
    {
      "cell_type": "code",
      "metadata": {
        "id": "F_NqfTbShJrN",
        "colab_type": "code",
        "colab": {
          "base_uri": "https://localhost:8080/",
          "height": 283
        },
        "outputId": "e24a26b8-bf24-46ae-a4e7-477457c65478"
      },
      "source": [
        "titanic_df['Age'].plot.hist()"
      ],
      "execution_count": null,
      "outputs": [
        {
          "output_type": "execute_result",
          "data": {
            "text/plain": [
              "<matplotlib.axes._subplots.AxesSubplot at 0x7f8eb4c6dfd0>"
            ]
          },
          "metadata": {
            "tags": []
          },
          "execution_count": 32
        },
        {
          "output_type": "display_data",
          "data": {
            "image/png": "[encoded data removed]",
            "text/plain": [
              "<Figure size 432x288 with 1 Axes>"
            ]
          },
          "metadata": {
            "tags": [],
            "needs_background": "light"
          }
        }
      ]
    },
    {
      "cell_type": "code",
      "metadata": {
        "id": "fDOHGw2tlTOd",
        "colab_type": "code",
        "colab": {}
      },
      "source": [
        ""
      ],
      "execution_count": null,
      "outputs": []
    },
    {
      "cell_type": "code",
      "metadata": {
        "id": "iBf8XPnVOORc",
        "colab_type": "code",
        "colab": {}
      },
      "source": [
        ""
      ],
      "execution_count": null,
      "outputs": []
    },
    {
      "cell_type": "markdown",
      "metadata": {
        "id": "byMBvGmpOOhN",
        "colab_type": "text"
      },
      "source": [
        "# Selection"
      ]
    },
    {
      "cell_type": "code",
      "metadata": {
        "id": "r7PfS0jw-0by",
        "colab_type": "code",
        "colab": {}
      },
      "source": [
        "titanic_df['Age']"
      ],
      "execution_count": null,
      "outputs": []
    },
    {
      "cell_type": "markdown",
      "metadata": {
        "id": "jEDtc98QNmgD",
        "colab_type": "text"
      },
      "source": [
        "## Filters"
      ]
    },
    {
      "cell_type": "code",
      "metadata": {
        "id": "dabehqR2lWzY",
        "colab_type": "code",
        "colab": {
          "base_uri": "https://localhost:8080/",
          "height": 470
        },
        "outputId": "3603ba16-663d-42ac-c0e9-6a145b061018"
      },
      "source": [
        "titanic_df[ titanic_df[\"Sex\"] == \"female\" ]"
      ],
      "execution_count": null,
      "outputs": [
        {
          "output_type": "execute_result",
          "data": {
            "text/html": [
              "<div>\n",
              "<style scoped>\n",
              "    .dataframe tbody tr th:only-of-type {\n",
              "        vertical-align: middle;\n",
              "    }\n",
              "\n",
              "    .dataframe tbody tr th {\n",
              "        vertical-align: top;\n",
              "    }\n",
              "\n",
              "    .dataframe thead th {\n",
              "        text-align: right;\n",
              "    }\n",
              "</style>\n",
              "<table border=\"1\" class=\"dataframe\">\n",
              "  <thead>\n",
              "    <tr style=\"text-align: right;\">\n",
              "      <th></th>\n",
              "      <th>Survived</th>\n",
              "      <th>Pclass</th>\n",
              "      <th>Name</th>\n",
              "      <th>Sex</th>\n",
              "      <th>Age</th>\n",
              "      <th>Siblings/Spouses Aboard</th>\n",
              "      <th>Parents/Children Aboard</th>\n",
              "      <th>Fare</th>\n",
              "    </tr>\n",
              "  </thead>\n",
              "  <tbody>\n",
              "    <tr>\n",
              "      <th>1</th>\n",
              "      <td>1</td>\n",
              "      <td>1</td>\n",
              "      <td>Mrs. John Bradley (Florence Briggs Thayer) Cum...</td>\n",
              "      <td>female</td>\n",
              "      <td>38.0</td>\n",
              "      <td>1</td>\n",
              "      <td>0</td>\n",
              "      <td>71.2833</td>\n",
              "    </tr>\n",
              "    <tr>\n",
              "      <th>2</th>\n",
              "      <td>1</td>\n",
              "      <td>3</td>\n",
              "      <td>Miss. Laina Heikkinen</td>\n",
              "      <td>female</td>\n",
              "      <td>26.0</td>\n",
              "      <td>0</td>\n",
              "      <td>0</td>\n",
              "      <td>7.9250</td>\n",
              "    </tr>\n",
              "    <tr>\n",
              "      <th>3</th>\n",
              "      <td>1</td>\n",
              "      <td>1</td>\n",
              "      <td>Mrs. Jacques Heath (Lily May Peel) Futrelle</td>\n",
              "      <td>female</td>\n",
              "      <td>35.0</td>\n",
              "      <td>1</td>\n",
              "      <td>0</td>\n",
              "      <td>53.1000</td>\n",
              "    </tr>\n",
              "    <tr>\n",
              "      <th>8</th>\n",
              "      <td>1</td>\n",
              "      <td>3</td>\n",
              "      <td>Mrs. Oscar W (Elisabeth Vilhelmina Berg) Johnson</td>\n",
              "      <td>female</td>\n",
              "      <td>27.0</td>\n",
              "      <td>0</td>\n",
              "      <td>2</td>\n",
              "      <td>11.1333</td>\n",
              "    </tr>\n",
              "    <tr>\n",
              "      <th>9</th>\n",
              "      <td>1</td>\n",
              "      <td>2</td>\n",
              "      <td>Mrs. Nicholas (Adele Achem) Nasser</td>\n",
              "      <td>female</td>\n",
              "      <td>14.0</td>\n",
              "      <td>1</td>\n",
              "      <td>0</td>\n",
              "      <td>30.0708</td>\n",
              "    </tr>\n",
              "    <tr>\n",
              "      <th>...</th>\n",
              "      <td>...</td>\n",
              "      <td>...</td>\n",
              "      <td>...</td>\n",
              "      <td>...</td>\n",
              "      <td>...</td>\n",
              "      <td>...</td>\n",
              "      <td>...</td>\n",
              "      <td>...</td>\n",
              "    </tr>\n",
              "    <tr>\n",
              "      <th>876</th>\n",
              "      <td>1</td>\n",
              "      <td>2</td>\n",
              "      <td>Mrs. William (Imanita Parrish Hall) Shelley</td>\n",
              "      <td>female</td>\n",
              "      <td>25.0</td>\n",
              "      <td>0</td>\n",
              "      <td>1</td>\n",
              "      <td>26.0000</td>\n",
              "    </tr>\n",
              "    <tr>\n",
              "      <th>878</th>\n",
              "      <td>0</td>\n",
              "      <td>3</td>\n",
              "      <td>Miss. Gerda Ulrika Dahlberg</td>\n",
              "      <td>female</td>\n",
              "      <td>22.0</td>\n",
              "      <td>0</td>\n",
              "      <td>0</td>\n",
              "      <td>10.5167</td>\n",
              "    </tr>\n",
              "    <tr>\n",
              "      <th>881</th>\n",
              "      <td>0</td>\n",
              "      <td>3</td>\n",
              "      <td>Mrs. William (Margaret Norton) Rice</td>\n",
              "      <td>female</td>\n",
              "      <td>39.0</td>\n",
              "      <td>0</td>\n",
              "      <td>5</td>\n",
              "      <td>29.1250</td>\n",
              "    </tr>\n",
              "    <tr>\n",
              "      <th>883</th>\n",
              "      <td>1</td>\n",
              "      <td>1</td>\n",
              "      <td>Miss. Margaret Edith Graham</td>\n",
              "      <td>female</td>\n",
              "      <td>19.0</td>\n",
              "      <td>0</td>\n",
              "      <td>0</td>\n",
              "      <td>30.0000</td>\n",
              "    </tr>\n",
              "    <tr>\n",
              "      <th>884</th>\n",
              "      <td>0</td>\n",
              "      <td>3</td>\n",
              "      <td>Miss. Catherine Helen Johnston</td>\n",
              "      <td>female</td>\n",
              "      <td>7.0</td>\n",
              "      <td>1</td>\n",
              "      <td>2</td>\n",
              "      <td>23.4500</td>\n",
              "    </tr>\n",
              "  </tbody>\n",
              "</table>\n",
              "<p>314 rows × 8 columns</p>\n",
              "</div>"
            ],
            "text/plain": [
              "     Survived  Pclass  ... Parents/Children Aboard     Fare\n",
              "1           1       1  ...                       0  71.2833\n",
              "2           1       3  ...                       0   7.9250\n",
              "3           1       1  ...                       0  53.1000\n",
              "8           1       3  ...                       2  11.1333\n",
              "9           1       2  ...                       0  30.0708\n",
              "..        ...     ...  ...                     ...      ...\n",
              "876         1       2  ...                       1  26.0000\n",
              "878         0       3  ...                       0  10.5167\n",
              "881         0       3  ...                       5  29.1250\n",
              "883         1       1  ...                       0  30.0000\n",
              "884         0       3  ...                       2  23.4500\n",
              "\n",
              "[314 rows x 8 columns]"
            ]
          },
          "metadata": {
            "tags": []
          },
          "execution_count": 34
        }
      ]
    },
    {
      "cell_type": "code",
      "metadata": {
        "id": "5hJhTBZiljMN",
        "colab_type": "code",
        "colab": {}
      },
      "source": [
        "## matplotlib and value_counts()"
      ],
      "execution_count": null,
      "outputs": []
    },
    {
      "cell_type": "code",
      "metadata": {
        "id": "f52_7WN2hnZ-",
        "colab_type": "code",
        "colab": {
          "base_uri": "https://localhost:8080/",
          "height": 279
        },
        "outputId": "8b6906e0-61e9-4571-f72f-8dd3bb29539a"
      },
      "source": [
        "titanic_df['Survived'].value_counts().plot.bar()"
      ],
      "execution_count": null,
      "outputs": [
        {
          "output_type": "execute_result",
          "data": {
            "text/plain": [
              "<matplotlib.axes._subplots.AxesSubplot at 0x7f8eb4c16080>"
            ]
          },
          "metadata": {
            "tags": []
          },
          "execution_count": 36
        },
        {
          "output_type": "display_data",
          "data": {
            "image/png": "[encoded data removed]",
            "text/plain": [
              "<Figure size 432x288 with 1 Axes>"
            ]
          },
          "metadata": {
            "tags": [],
            "needs_background": "light"
          }
        }
      ]
    },
    {
      "cell_type": "markdown",
      "metadata": {
        "id": "7pvTZ18niCxY",
        "colab_type": "text"
      },
      "source": [
        "## Seaborn countplot"
      ]
    },
    {
      "cell_type": "code",
      "metadata": {
        "id": "cF7kWnlIh-8z",
        "colab_type": "code",
        "colab": {
          "base_uri": "https://localhost:8080/",
          "height": 356
        },
        "outputId": "94f1b90d-f5b0-4d8a-ff64-bda6d4d045ef"
      },
      "source": [
        "import seaborn as sns; \n",
        "sns.set(color_codes=True)\n",
        "\n",
        "sns.countplot(x='Survived', data=titanic_df)"
      ],
      "execution_count": null,
      "outputs": [
        {
          "output_type": "stream",
          "text": [
            "/usr/local/lib/python3.6/dist-packages/statsmodels/tools/_testing.py:19: FutureWarning: pandas.util.testing is deprecated. Use the functions in the public API at pandas.testing instead.\n",
            "  import pandas.util.testing as tm\n"
          ],
          "name": "stderr"
        },
        {
          "output_type": "execute_result",
          "data": {
            "text/plain": [
              "<matplotlib.axes._subplots.AxesSubplot at 0x7f8eaa315940>"
            ]
          },
          "metadata": {
            "tags": []
          },
          "execution_count": 37
        },
        {
          "output_type": "display_data",
          "data": {
            "image/png": "[encoded data removed]",
            "text/plain": [
              "<Figure size 432x288 with 1 Axes>"
            ]
          },
          "metadata": {
            "tags": []
          }
        }
      ]
    },
    {
      "cell_type": "markdown",
      "metadata": {
        "id": "zyQh_Bj4iMns",
        "colab_type": "text"
      },
      "source": [
        "# Filtering and plot"
      ]
    },
    {
      "cell_type": "code",
      "metadata": {
        "id": "SVVqlHSKmWaV",
        "colab_type": "code",
        "colab": {}
      },
      "source": [
        "# More complex filter Gender and Count on 'Survived' column\n",
        "\n",
        "import pandas as pd\n",
        "male = titanic_df[titanic_df['Sex'] == \"male\"]\n",
        "female = titanic_df[titanic_df['Sex'] == \"female\"]\n",
        "\n",
        "mydf = pd.DataFrame({\n",
        "    'male': male[\"Survived\"].value_counts(),\n",
        "    'female': female[\"Survived\"].value_counts(),\n",
        "})\n"
      ],
      "execution_count": null,
      "outputs": []
    },
    {
      "cell_type": "code",
      "metadata": {
        "id": "q-gDx_6nnhcE",
        "colab_type": "code",
        "colab": {
          "base_uri": "https://localhost:8080/",
          "height": 282
        },
        "outputId": "c07941d6-c6c2-44e9-b214-e74e42e847f0"
      },
      "source": [
        "mydf.plot.bar()"
      ],
      "execution_count": null,
      "outputs": [
        {
          "output_type": "execute_result",
          "data": {
            "text/plain": [
              "<matplotlib.axes._subplots.AxesSubplot at 0x7f8eaa27f278>"
            ]
          },
          "metadata": {
            "tags": []
          },
          "execution_count": 39
        },
        {
          "output_type": "display_data",
          "data": {
            "image/png": "[encoded data removed]",
            "text/plain": [
              "<Figure size 432x288 with 1 Axes>"
            ]
          },
          "metadata": {
            "tags": []
          }
        }
      ]
    },
    {
      "cell_type": "code",
      "metadata": {
        "id": "ywioxhmZiibv",
        "colab_type": "code",
        "colab": {
          "base_uri": "https://localhost:8080/",
          "height": 265
        },
        "outputId": "e17d061b-7d35-4536-8fbf-6b5169f70dfe"
      },
      "source": [
        "mydf['male'].plot.pie()\n"
      ],
      "execution_count": null,
      "outputs": [
        {
          "output_type": "execute_result",
          "data": {
            "text/plain": [
              "<matplotlib.axes._subplots.AxesSubplot at 0x7f8eaa1eea58>"
            ]
          },
          "metadata": {
            "tags": []
          },
          "execution_count": 40
        },
        {
          "output_type": "display_data",
          "data": {
            "image/png": "[encoded data removed]",
            "text/plain": [
              "<Figure size 432x288 with 1 Axes>"
            ]
          },
          "metadata": {
            "tags": []
          }
        }
      ]
    },
    {
      "cell_type": "code",
      "metadata": {
        "id": "73Rquu9SiqLE",
        "colab_type": "code",
        "colab": {
          "base_uri": "https://localhost:8080/",
          "height": 265
        },
        "outputId": "442fa77e-5c18-4b6b-cfc4-c61c56fb8aae"
      },
      "source": [
        "mydf['female'].plot.pie()"
      ],
      "execution_count": null,
      "outputs": [
        {
          "output_type": "execute_result",
          "data": {
            "text/plain": [
              "<matplotlib.axes._subplots.AxesSubplot at 0x7f8eaa225f60>"
            ]
          },
          "metadata": {
            "tags": []
          },
          "execution_count": 41
        },
        {
          "output_type": "display_data",
          "data": {
            "image/png": "[encoded data removed]",
            "text/plain": [
              "<Figure size 432x288 with 1 Axes>"
            ]
          },
          "metadata": {
            "tags": []
          }
        }
      ]
    },
    {
      "cell_type": "code",
      "metadata": {
        "id": "_dvI4KLEnyYx",
        "colab_type": "code",
        "colab": {
          "base_uri": "https://localhost:8080/",
          "height": 234
        },
        "outputId": "a1a13d35-73dd-4c40-f4f0-136155d870ed"
      },
      "source": [
        "mydf.plot.pie(subplots=True)"
      ],
      "execution_count": null,
      "outputs": [
        {
          "output_type": "execute_result",
          "data": {
            "text/plain": [
              "array([<matplotlib.axes._subplots.AxesSubplot object at 0x7f8eaa199828>,\n",
              "       <matplotlib.axes._subplots.AxesSubplot object at 0x7f8ea7f0ce48>],\n",
              "      dtype=object)"
            ]
          },
          "metadata": {
            "tags": []
          },
          "execution_count": 42
        },
        {
          "output_type": "display_data",
          "data": {
            "image/png": "[encoded data removed]",
            "text/plain": [
              "<Figure size 432x288 with 2 Axes>"
            ]
          },
          "metadata": {
            "tags": []
          }
        }
      ]
    },
    {
      "cell_type": "markdown",
      "metadata": {
        "id": "FYCGKE2BiwI0",
        "colab_type": "text"
      },
      "source": [
        "# Time series dataset"
      ]
    },
    {
      "cell_type": "code",
      "metadata": {
        "id": "FSalhhTN0kfJ",
        "colab_type": "code",
        "colab": {}
      },
      "source": [
        "df1 = pd.read_csv('N-001_2020-03-01.csv')\n",
        "df2 = pd.read_csv('N-001_2020-03-02.csv')"
      ],
      "execution_count": null,
      "outputs": []
    },
    {
      "cell_type": "markdown",
      "metadata": {
        "id": "vvu51F7ki0EV",
        "colab_type": "text"
      },
      "source": [
        "## concat a pandas dataframe"
      ]
    },
    {
      "cell_type": "code",
      "metadata": {
        "id": "gXslghMKYfQy",
        "colab_type": "code",
        "colab": {}
      },
      "source": [
        "df = pd.concat([df1, df2])\n"
      ],
      "execution_count": null,
      "outputs": []
    },
    {
      "cell_type": "markdown",
      "metadata": {
        "id": "nmST9wZZjDPP",
        "colab_type": "text"
      },
      "source": [
        "# set data frame time index "
      ]
    },
    {
      "cell_type": "code",
      "metadata": {
        "id": "qjEPKjPFjCDT",
        "colab_type": "code",
        "colab": {
          "base_uri": "https://localhost:8080/",
          "height": 403
        },
        "outputId": "7bb85fd0-d5a8-4ddf-c788-626a4d7b7390"
      },
      "source": [
        "\n",
        "df['time_new'] = pd.to_datetime(df['time'],unit='us')\n",
        "df_indexed = df.set_index('time_new')\n",
        "\n",
        "display(df_indexed['2020-03-01 00:00'])\n",
        "display(df_indexed['2020-03-02 00:00'])\n"
      ],
      "execution_count": null,
      "outputs": [
        {
          "output_type": "display_data",
          "data": {
            "text/html": [
              "<div>\n",
              "<style scoped>\n",
              "    .dataframe tbody tr th:only-of-type {\n",
              "        vertical-align: middle;\n",
              "    }\n",
              "\n",
              "    .dataframe tbody tr th {\n",
              "        vertical-align: top;\n",
              "    }\n",
              "\n",
              "    .dataframe thead th {\n",
              "        text-align: right;\n",
              "    }\n",
              "</style>\n",
              "<table border=\"1\" class=\"dataframe\">\n",
              "  <thead>\n",
              "    <tr style=\"text-align: right;\">\n",
              "      <th></th>\n",
              "      <th>name</th>\n",
              "      <th>time</th>\n",
              "      <th>d_PUBLISH_EVERY_S</th>\n",
              "      <th>d_afterMotionDetectedInSecond</th>\n",
              "      <th>d_appVersionInt</th>\n",
              "      <th>d_boot_count</th>\n",
              "      <th>d_calibrate_temp</th>\n",
              "      <th>d_counter</th>\n",
              "      <th>d_cpu0_reset_reason</th>\n",
              "      <th>d_cpu1_reset_reason</th>\n",
              "      <th>d_display_is_off</th>\n",
              "      <th>d_display_sleep_count_s</th>\n",
              "      <th>d_first_published</th>\n",
              "      <th>d_flag_display</th>\n",
              "      <th>d_heap</th>\n",
              "      <th>d_humidity_rh</th>\n",
              "      <th>d_lwt</th>\n",
              "      <th>d_millis</th>\n",
              "      <th>d_mqttMessageTimeout</th>\n",
              "      <th>d_mqttMessageTimeoutInSecond</th>\n",
              "      <th>d_pm10</th>\n",
              "      <th>d_pm2_5</th>\n",
              "      <th>d_pressure_pa</th>\n",
              "      <th>d_raw_PM_AE_UG_10_0</th>\n",
              "      <th>d_raw_PM_AE_UG_1_0</th>\n",
              "      <th>d_raw_PM_AE_UG_2_5</th>\n",
              "      <th>d_raw_PM_SP_UG_10_0</th>\n",
              "      <th>d_raw_PM_SP_UG_1_0</th>\n",
              "      <th>d_raw_PM_SP_UG_2_5</th>\n",
              "      <th>d_raw_boot_count</th>\n",
              "      <th>d_raw_cpu0_reset_reason</th>\n",
              "      <th>d_raw_cpu1_reset_reason</th>\n",
              "      <th>d_raw_first_published</th>\n",
              "      <th>d_rssi</th>\n",
              "      <th>d_seq</th>\n",
              "      <th>d_subscription</th>\n",
              "      <th>d_temperature_c</th>\n",
              "      <th>info_flash_size</th>\n",
              "      <th>topic</th>\n",
              "    </tr>\n",
              "    <tr>\n",
              "      <th>time_new</th>\n",
              "      <th></th>\n",
              "      <th></th>\n",
              "      <th></th>\n",
              "      <th></th>\n",
              "      <th></th>\n",
              "      <th></th>\n",
              "      <th></th>\n",
              "      <th></th>\n",
              "      <th></th>\n",
              "      <th></th>\n",
              "      <th></th>\n",
              "      <th></th>\n",
              "      <th></th>\n",
              "      <th></th>\n",
              "      <th></th>\n",
              "      <th></th>\n",
              "      <th></th>\n",
              "      <th></th>\n",
              "      <th></th>\n",
              "      <th></th>\n",
              "      <th></th>\n",
              "      <th></th>\n",
              "      <th></th>\n",
              "      <th></th>\n",
              "      <th></th>\n",
              "      <th></th>\n",
              "      <th></th>\n",
              "      <th></th>\n",
              "      <th></th>\n",
              "      <th></th>\n",
              "      <th></th>\n",
              "      <th></th>\n",
              "      <th></th>\n",
              "      <th></th>\n",
              "      <th></th>\n",
              "      <th></th>\n",
              "      <th></th>\n",
              "      <th></th>\n",
              "      <th></th>\n",
              "    </tr>\n",
              "  </thead>\n",
              "  <tbody>\n",
              "    <tr>\n",
              "      <th>2020-03-01 00:00:19.218098</th>\n",
              "      <td>model-n-1</td>\n",
              "      <td>1583020819218098</td>\n",
              "      <td>20</td>\n",
              "      <td>NaN</td>\n",
              "      <td>501</td>\n",
              "      <td>407</td>\n",
              "      <td>-3.0</td>\n",
              "      <td>171</td>\n",
              "      <td>1</td>\n",
              "      <td>14</td>\n",
              "      <td>NaN</td>\n",
              "      <td>NaN</td>\n",
              "      <td>NaN</td>\n",
              "      <td>NaN</td>\n",
              "      <td>242912</td>\n",
              "      <td>59.88184</td>\n",
              "      <td>0.0</td>\n",
              "      <td>3405244</td>\n",
              "      <td>19.0</td>\n",
              "      <td>NaN</td>\n",
              "      <td>48.0</td>\n",
              "      <td>39.0</td>\n",
              "      <td>101133.5</td>\n",
              "      <td>47.0</td>\n",
              "      <td>24.0</td>\n",
              "      <td>38.0</td>\n",
              "      <td>48.0</td>\n",
              "      <td>28.0</td>\n",
              "      <td>44.0</td>\n",
              "      <td>NaN</td>\n",
              "      <td>NaN</td>\n",
              "      <td>NaN</td>\n",
              "      <td>NaN</td>\n",
              "      <td>-59</td>\n",
              "      <td>NaN</td>\n",
              "      <td>1</td>\n",
              "      <td>23.67</td>\n",
              "      <td>4194304</td>\n",
              "      <td>/DustboyMiniN1/gearname/N-001/status</td>\n",
              "    </tr>\n",
              "    <tr>\n",
              "      <th>2020-03-01 00:00:39.209898</th>\n",
              "      <td>model-n-1</td>\n",
              "      <td>1583020839209898</td>\n",
              "      <td>20</td>\n",
              "      <td>NaN</td>\n",
              "      <td>501</td>\n",
              "      <td>407</td>\n",
              "      <td>-3.0</td>\n",
              "      <td>172</td>\n",
              "      <td>1</td>\n",
              "      <td>14</td>\n",
              "      <td>NaN</td>\n",
              "      <td>NaN</td>\n",
              "      <td>NaN</td>\n",
              "      <td>NaN</td>\n",
              "      <td>242904</td>\n",
              "      <td>59.92480</td>\n",
              "      <td>0.0</td>\n",
              "      <td>3425244</td>\n",
              "      <td>19.0</td>\n",
              "      <td>NaN</td>\n",
              "      <td>46.0</td>\n",
              "      <td>37.0</td>\n",
              "      <td>101135.5</td>\n",
              "      <td>43.0</td>\n",
              "      <td>24.0</td>\n",
              "      <td>35.0</td>\n",
              "      <td>43.0</td>\n",
              "      <td>28.0</td>\n",
              "      <td>39.0</td>\n",
              "      <td>NaN</td>\n",
              "      <td>NaN</td>\n",
              "      <td>NaN</td>\n",
              "      <td>NaN</td>\n",
              "      <td>-61</td>\n",
              "      <td>NaN</td>\n",
              "      <td>1</td>\n",
              "      <td>23.67</td>\n",
              "      <td>4194304</td>\n",
              "      <td>/DustboyMiniN1/gearname/N-001/status</td>\n",
              "    </tr>\n",
              "    <tr>\n",
              "      <th>2020-03-01 00:00:59.207712</th>\n",
              "      <td>model-n-1</td>\n",
              "      <td>1583020859207712</td>\n",
              "      <td>20</td>\n",
              "      <td>NaN</td>\n",
              "      <td>501</td>\n",
              "      <td>407</td>\n",
              "      <td>-3.0</td>\n",
              "      <td>173</td>\n",
              "      <td>1</td>\n",
              "      <td>14</td>\n",
              "      <td>NaN</td>\n",
              "      <td>NaN</td>\n",
              "      <td>NaN</td>\n",
              "      <td>NaN</td>\n",
              "      <td>242908</td>\n",
              "      <td>59.98145</td>\n",
              "      <td>0.0</td>\n",
              "      <td>3445244</td>\n",
              "      <td>19.0</td>\n",
              "      <td>NaN</td>\n",
              "      <td>46.0</td>\n",
              "      <td>37.0</td>\n",
              "      <td>101136.1</td>\n",
              "      <td>46.0</td>\n",
              "      <td>24.0</td>\n",
              "      <td>39.0</td>\n",
              "      <td>47.0</td>\n",
              "      <td>28.0</td>\n",
              "      <td>45.0</td>\n",
              "      <td>NaN</td>\n",
              "      <td>NaN</td>\n",
              "      <td>NaN</td>\n",
              "      <td>NaN</td>\n",
              "      <td>-62</td>\n",
              "      <td>NaN</td>\n",
              "      <td>1</td>\n",
              "      <td>23.68</td>\n",
              "      <td>4194304</td>\n",
              "      <td>/DustboyMiniN1/gearname/N-001/status</td>\n",
              "    </tr>\n",
              "  </tbody>\n",
              "</table>\n",
              "</div>"
            ],
            "text/plain": [
              "                                 name  ...                                 topic\n",
              "time_new                               ...                                      \n",
              "2020-03-01 00:00:19.218098  model-n-1  ...  /DustboyMiniN1/gearname/N-001/status\n",
              "2020-03-01 00:00:39.209898  model-n-1  ...  /DustboyMiniN1/gearname/N-001/status\n",
              "2020-03-01 00:00:59.207712  model-n-1  ...  /DustboyMiniN1/gearname/N-001/status\n",
              "\n",
              "[3 rows x 39 columns]"
            ]
          },
          "metadata": {
            "tags": []
          }
        },
        {
          "output_type": "display_data",
          "data": {
            "text/html": [
              "<div>\n",
              "<style scoped>\n",
              "    .dataframe tbody tr th:only-of-type {\n",
              "        vertical-align: middle;\n",
              "    }\n",
              "\n",
              "    .dataframe tbody tr th {\n",
              "        vertical-align: top;\n",
              "    }\n",
              "\n",
              "    .dataframe thead th {\n",
              "        text-align: right;\n",
              "    }\n",
              "</style>\n",
              "<table border=\"1\" class=\"dataframe\">\n",
              "  <thead>\n",
              "    <tr style=\"text-align: right;\">\n",
              "      <th></th>\n",
              "      <th>name</th>\n",
              "      <th>time</th>\n",
              "      <th>d_PUBLISH_EVERY_S</th>\n",
              "      <th>d_afterMotionDetectedInSecond</th>\n",
              "      <th>d_appVersionInt</th>\n",
              "      <th>d_boot_count</th>\n",
              "      <th>d_calibrate_temp</th>\n",
              "      <th>d_counter</th>\n",
              "      <th>d_cpu0_reset_reason</th>\n",
              "      <th>d_cpu1_reset_reason</th>\n",
              "      <th>d_display_is_off</th>\n",
              "      <th>d_display_sleep_count_s</th>\n",
              "      <th>d_first_published</th>\n",
              "      <th>d_flag_display</th>\n",
              "      <th>d_heap</th>\n",
              "      <th>d_humidity_rh</th>\n",
              "      <th>d_lwt</th>\n",
              "      <th>d_millis</th>\n",
              "      <th>d_mqttMessageTimeout</th>\n",
              "      <th>d_mqttMessageTimeoutInSecond</th>\n",
              "      <th>d_pm10</th>\n",
              "      <th>d_pm2_5</th>\n",
              "      <th>d_pressure_pa</th>\n",
              "      <th>d_raw_PM_AE_UG_10_0</th>\n",
              "      <th>d_raw_PM_AE_UG_1_0</th>\n",
              "      <th>d_raw_PM_AE_UG_2_5</th>\n",
              "      <th>d_raw_PM_SP_UG_10_0</th>\n",
              "      <th>d_raw_PM_SP_UG_1_0</th>\n",
              "      <th>d_raw_PM_SP_UG_2_5</th>\n",
              "      <th>d_raw_boot_count</th>\n",
              "      <th>d_raw_cpu0_reset_reason</th>\n",
              "      <th>d_raw_cpu1_reset_reason</th>\n",
              "      <th>d_raw_first_published</th>\n",
              "      <th>d_rssi</th>\n",
              "      <th>d_seq</th>\n",
              "      <th>d_subscription</th>\n",
              "      <th>d_temperature_c</th>\n",
              "      <th>info_flash_size</th>\n",
              "      <th>topic</th>\n",
              "    </tr>\n",
              "    <tr>\n",
              "      <th>time_new</th>\n",
              "      <th></th>\n",
              "      <th></th>\n",
              "      <th></th>\n",
              "      <th></th>\n",
              "      <th></th>\n",
              "      <th></th>\n",
              "      <th></th>\n",
              "      <th></th>\n",
              "      <th></th>\n",
              "      <th></th>\n",
              "      <th></th>\n",
              "      <th></th>\n",
              "      <th></th>\n",
              "      <th></th>\n",
              "      <th></th>\n",
              "      <th></th>\n",
              "      <th></th>\n",
              "      <th></th>\n",
              "      <th></th>\n",
              "      <th></th>\n",
              "      <th></th>\n",
              "      <th></th>\n",
              "      <th></th>\n",
              "      <th></th>\n",
              "      <th></th>\n",
              "      <th></th>\n",
              "      <th></th>\n",
              "      <th></th>\n",
              "      <th></th>\n",
              "      <th></th>\n",
              "      <th></th>\n",
              "      <th></th>\n",
              "      <th></th>\n",
              "      <th></th>\n",
              "      <th></th>\n",
              "      <th></th>\n",
              "      <th></th>\n",
              "      <th></th>\n",
              "      <th></th>\n",
              "    </tr>\n",
              "  </thead>\n",
              "  <tbody>\n",
              "    <tr>\n",
              "      <th>2020-03-02 00:00:17.511237</th>\n",
              "      <td>model-n-1</td>\n",
              "      <td>1583107217511237</td>\n",
              "      <td>20</td>\n",
              "      <td>NaN</td>\n",
              "      <td>501</td>\n",
              "      <td>433</td>\n",
              "      <td>-3.0</td>\n",
              "      <td>12</td>\n",
              "      <td>1</td>\n",
              "      <td>14</td>\n",
              "      <td>NaN</td>\n",
              "      <td>NaN</td>\n",
              "      <td>NaN</td>\n",
              "      <td>NaN</td>\n",
              "      <td>242872</td>\n",
              "      <td>55.79590</td>\n",
              "      <td>0.0</td>\n",
              "      <td>225026</td>\n",
              "      <td>19.0</td>\n",
              "      <td>NaN</td>\n",
              "      <td>21.0</td>\n",
              "      <td>18.0</td>\n",
              "      <td>101091.5</td>\n",
              "      <td>21.0</td>\n",
              "      <td>13.0</td>\n",
              "      <td>18.0</td>\n",
              "      <td>21.0</td>\n",
              "      <td>13.0</td>\n",
              "      <td>18.0</td>\n",
              "      <td>NaN</td>\n",
              "      <td>NaN</td>\n",
              "      <td>NaN</td>\n",
              "      <td>NaN</td>\n",
              "      <td>-54</td>\n",
              "      <td>NaN</td>\n",
              "      <td>1</td>\n",
              "      <td>24.32</td>\n",
              "      <td>4194304</td>\n",
              "      <td>/DustboyMiniN1/gearname/N-001/status</td>\n",
              "    </tr>\n",
              "    <tr>\n",
              "      <th>2020-03-02 00:00:37.517420</th>\n",
              "      <td>model-n-1</td>\n",
              "      <td>1583107237517420</td>\n",
              "      <td>20</td>\n",
              "      <td>NaN</td>\n",
              "      <td>501</td>\n",
              "      <td>433</td>\n",
              "      <td>-3.0</td>\n",
              "      <td>13</td>\n",
              "      <td>1</td>\n",
              "      <td>14</td>\n",
              "      <td>NaN</td>\n",
              "      <td>NaN</td>\n",
              "      <td>NaN</td>\n",
              "      <td>NaN</td>\n",
              "      <td>242852</td>\n",
              "      <td>55.81738</td>\n",
              "      <td>0.0</td>\n",
              "      <td>245026</td>\n",
              "      <td>19.0</td>\n",
              "      <td>NaN</td>\n",
              "      <td>23.0</td>\n",
              "      <td>22.0</td>\n",
              "      <td>101090.8</td>\n",
              "      <td>23.0</td>\n",
              "      <td>15.0</td>\n",
              "      <td>22.0</td>\n",
              "      <td>23.0</td>\n",
              "      <td>15.0</td>\n",
              "      <td>22.0</td>\n",
              "      <td>NaN</td>\n",
              "      <td>NaN</td>\n",
              "      <td>NaN</td>\n",
              "      <td>NaN</td>\n",
              "      <td>-58</td>\n",
              "      <td>NaN</td>\n",
              "      <td>1</td>\n",
              "      <td>24.33</td>\n",
              "      <td>4194304</td>\n",
              "      <td>/DustboyMiniN1/gearname/N-001/status</td>\n",
              "    </tr>\n",
              "  </tbody>\n",
              "</table>\n",
              "</div>"
            ],
            "text/plain": [
              "                                 name  ...                                 topic\n",
              "time_new                               ...                                      \n",
              "2020-03-02 00:00:17.511237  model-n-1  ...  /DustboyMiniN1/gearname/N-001/status\n",
              "2020-03-02 00:00:37.517420  model-n-1  ...  /DustboyMiniN1/gearname/N-001/status\n",
              "\n",
              "[2 rows x 39 columns]"
            ]
          },
          "metadata": {
            "tags": []
          }
        }
      ]
    },
    {
      "cell_type": "code",
      "metadata": {
        "id": "DjkLk-FnYfoM",
        "colab_type": "code",
        "colab": {
          "base_uri": "https://localhost:8080/",
          "height": 697
        },
        "outputId": "820d0741-8fbb-4e82-ec92-79c9de2c096c"
      },
      "source": [
        "for col in df.columns:\n",
        "  print(col)"
      ],
      "execution_count": null,
      "outputs": [
        {
          "output_type": "stream",
          "text": [
            "name\n",
            "time\n",
            "d_PUBLISH_EVERY_S\n",
            "d_afterMotionDetectedInSecond\n",
            "d_appVersionInt\n",
            "d_boot_count\n",
            "d_calibrate_temp\n",
            "d_counter\n",
            "d_cpu0_reset_reason\n",
            "d_cpu1_reset_reason\n",
            "d_display_is_off\n",
            "d_display_sleep_count_s\n",
            "d_first_published\n",
            "d_flag_display\n",
            "d_heap\n",
            "d_humidity_rh\n",
            "d_lwt\n",
            "d_millis\n",
            "d_mqttMessageTimeout\n",
            "d_mqttMessageTimeoutInSecond\n",
            "d_pm10\n",
            "d_pm2_5\n",
            "d_pressure_pa\n",
            "d_raw_PM_AE_UG_10_0\n",
            "d_raw_PM_AE_UG_1_0\n",
            "d_raw_PM_AE_UG_2_5\n",
            "d_raw_PM_SP_UG_10_0\n",
            "d_raw_PM_SP_UG_1_0\n",
            "d_raw_PM_SP_UG_2_5\n",
            "d_raw_boot_count\n",
            "d_raw_cpu0_reset_reason\n",
            "d_raw_cpu1_reset_reason\n",
            "d_raw_first_published\n",
            "d_rssi\n",
            "d_seq\n",
            "d_subscription\n",
            "d_temperature_c\n",
            "info_flash_size\n",
            "topic\n",
            "time_new\n"
          ],
          "name": "stdout"
        }
      ]
    },
    {
      "cell_type": "markdown",
      "metadata": {
        "id": "_FGfCop-jRFz",
        "colab_type": "text"
      },
      "source": [
        "# Plot humidity over time"
      ]
    },
    {
      "cell_type": "code",
      "metadata": {
        "id": "_ALWO7NdYnpW",
        "colab_type": "code",
        "colab": {
          "base_uri": "https://localhost:8080/",
          "height": 304
        },
        "outputId": "2a50bfcc-d0ef-4f4f-8cbd-5563b47fabbd"
      },
      "source": [
        "plt = df_indexed['d_humidity_rh'].plot.line()\n",
        "plt.set_ylabel('%Rh')"
      ],
      "execution_count": null,
      "outputs": [
        {
          "output_type": "execute_result",
          "data": {
            "text/plain": [
              "Text(0, 0.5, '%Rh')"
            ]
          },
          "metadata": {
            "tags": []
          },
          "execution_count": 47
        },
        {
          "output_type": "display_data",
          "data": {
            "image/png": "[encoded data removed]",
            "text/plain": [
              "<Figure size 432x288 with 1 Axes>"
            ]
          },
          "metadata": {
            "tags": []
          }
        }
      ]
    },
    {
      "cell_type": "code",
      "metadata": {
        "id": "zUp_WoURdT_X",
        "colab_type": "code",
        "colab": {
          "base_uri": "https://localhost:8080/",
          "height": 304
        },
        "outputId": "077b7ca1-b5d7-4d8d-8e30-aa9d06ae9812"
      },
      "source": [
        "df_indexed['d_humidity_rh']['2020-03-01'].plot.line()"
      ],
      "execution_count": null,
      "outputs": [
        {
          "output_type": "execute_result",
          "data": {
            "text/plain": [
              "<matplotlib.axes._subplots.AxesSubplot at 0x7f8ea7dc6a58>"
            ]
          },
          "metadata": {
            "tags": []
          },
          "execution_count": 48
        },
        {
          "output_type": "display_data",
          "data": {
            "image/png": "[encoded data removed]",
            "text/plain": [
              "<Figure size 432x288 with 1 Axes>"
            ]
          },
          "metadata": {
            "tags": []
          }
        }
      ]
    },
    {
      "cell_type": "code",
      "metadata": {
        "id": "s53Ev4LUdXPD",
        "colab_type": "code",
        "colab": {
          "base_uri": "https://localhost:8080/",
          "height": 304
        },
        "outputId": "bd9f6a9a-ac5b-4b38-d8e5-c2c49a536eea"
      },
      "source": [
        "df_indexed['d_humidity_rh']['2020-03-02'].plot.line()"
      ],
      "execution_count": null,
      "outputs": [
        {
          "output_type": "execute_result",
          "data": {
            "text/plain": [
              "<matplotlib.axes._subplots.AxesSubplot at 0x7f8ea7d55ba8>"
            ]
          },
          "metadata": {
            "tags": []
          },
          "execution_count": 49
        },
        {
          "output_type": "display_data",
          "data": {
            "image/png": "[encoded data removed]",
            "text/plain": [
              "<Figure size 432x288 with 1 Axes>"
            ]
          },
          "metadata": {
            "tags": []
          }
        }
      ]
    },
    {
      "cell_type": "markdown",
      "metadata": {
        "id": "RKTXIrp-6k5S",
        "colab_type": "text"
      },
      "source": [
        "# Practice"
      ]
    },
    {
      "cell_type": "markdown",
      "metadata": {
        "id": "jM434YCg6m5Y",
        "colab_type": "text"
      },
      "source": [
        "Download \"Wholesale customers data.csv\" (download from https://archive.ics.uci.edu/ml/machine-learning-databases/00292/) "
      ]
    }
  ]
}