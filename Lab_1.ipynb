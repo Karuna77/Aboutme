{
  "nbformat": 4,
  "nbformat_minor": 0,
  "metadata": {
    "colab": {
      "name": "Lab-1.ipynb",
      "provenance": [],
      "collapsed_sections": [],
      "include_colab_link": true
    },
    "kernelspec": {
      "name": "python3",
      "display_name": "Python 3"
    }
  },
  "cells": [
    {
      "cell_type": "markdown",
      "metadata": {
        "id": "view-in-github",
        "colab_type": "text"
      },
      "source": [
        "<a href=\"https://colab.research.google.com/github/Karuna77/Aboutme/blob/master/Lab_1.ipynb\" target=\"_parent\"><img src=\"https://colab.research.google.com/assets/colab-badge.svg\" alt=\"Open In Colab\"/></a>"
      ]
    },
    {
      "cell_type": "markdown",
      "metadata": {
        "id": "-K1wFKsVL1pR",
        "colab_type": "text"
      },
      "source": [
        "Import Library Section = Comodity"
      ]
    },
    {
      "cell_type": "code",
      "metadata": {
        "id": "VIPTyJzGMDlt",
        "colab_type": "code",
        "colab": {}
      },
      "source": [
        ""
      ],
      "execution_count": null,
      "outputs": []
    },
    {
      "cell_type": "markdown",
      "metadata": {
        "id": "TkSf_RLuMD6X",
        "colab_type": "text"
      },
      "source": [
        "Global Declaration = Decoration"
      ]
    },
    {
      "cell_type": "code",
      "metadata": {
        "id": "92MuSaRuMJ3-",
        "colab_type": "code",
        "colab": {}
      },
      "source": [
        ""
      ],
      "execution_count": null,
      "outputs": []
    },
    {
      "cell_type": "markdown",
      "metadata": {
        "id": "JsGJ_-KaMKVr",
        "colab_type": "text"
      },
      "source": [
        "Function = Shelf"
      ]
    },
    {
      "cell_type": "code",
      "metadata": {
        "id": "Tc4KL8j6MSLt",
        "colab_type": "code",
        "colab": {}
      },
      "source": [
        ""
      ],
      "execution_count": null,
      "outputs": []
    },
    {
      "cell_type": "markdown",
      "metadata": {
        "id": "ipRL7l1qMWBO",
        "colab_type": "text"
      },
      "source": [
        "Use"
      ]
    },
    {
      "cell_type": "code",
      "metadata": {
        "id": "vFn6vkX_MXhn",
        "colab_type": "code",
        "colab": {}
      },
      "source": [
        ""
      ],
      "execution_count": null,
      "outputs": []
    }
  ]
}