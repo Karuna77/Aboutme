{
  "nbformat": 4,
  "nbformat_minor": 0,
  "metadata": {
    "colab": {
      "name": "Lab-1.ipynb",
      "provenance": [],
      "collapsed_sections": [],
      "include_colab_link": true
    },
    "kernelspec": {
      "name": "python3",
      "display_name": "Python 3"
    }
  },
  "cells": [
    {
      "cell_type": "markdown",
      "metadata": {
        "id": "view-in-github",
        "colab_type": "text"
      },
      "source": [
        "<a href=\"https://colab.research.google.com/github/Karuna77/Aboutme/blob/master/Lab_1.ipynb\" target=\"_parent\"><img src=\"https://colab.research.google.com/assets/colab-badge.svg\" alt=\"Open In Colab\"/></a>"
      ]
    },
    {
      "cell_type": "markdown",
      "metadata": {
        "id": "-K1wFKsVL1pR",
        "colab_type": "text"
      },
      "source": [
        "Import Library Section = Comodity"
      ]
    },
    {
      "cell_type": "code",
      "metadata": {
        "id": "VIPTyJzGMDlt",
        "colab_type": "code",
        "colab": {}
      },
      "source": [
        "from termcolor import colored"
      ],
      "execution_count": 21,
      "outputs": []
    },
    {
      "cell_type": "markdown",
      "metadata": {
        "id": "TkSf_RLuMD6X",
        "colab_type": "text"
      },
      "source": [
        "Global Declaration = Decoration"
      ]
    },
    {
      "cell_type": "code",
      "metadata": {
        "id": "92MuSaRuMJ3-",
        "colab_type": "code",
        "colab": {}
      },
      "source": [
        "chairs =6\n",
        "tables =1"
      ],
      "execution_count": 22,
      "outputs": []
    },
    {
      "cell_type": "markdown",
      "metadata": {
        "id": "JsGJ_-KaMKVr",
        "colab_type": "text"
      },
      "source": [
        "Function = Shelf"
      ]
    },
    {
      "cell_type": "markdown",
      "metadata": {
        "id": "ipRL7l1qMWBO",
        "colab_type": "text"
      },
      "source": [
        "Use"
      ]
    },
    {
      "cell_type": "code",
      "metadata": {
        "id": "Tc4KL8j6MSLt",
        "colab_type": "code",
        "colab": {}
      },
      "source": [
        "def countMyFurnitureInBedRoom():\n",
        "  chairs = 1\n",
        "  table = 1\n",
        "  print('Total chair in bedroom: '+str(chairs))\n",
        "  print('Total table in bedroom: '+str(tables))\n",
        "  return chairs+tables\n",
        "\n"
      ],
      "execution_count": 32,
      "outputs": []
    },
    {
      "cell_type": "code",
      "metadata": {
        "id": "KJ2hN9U5A90C",
        "colab_type": "code",
        "colab": {
          "base_uri": "https://localhost:8080/",
          "height": 68
        },
        "outputId": "698a904c-7317-47a8-cd26-129039d6e0de"
      },
      "source": [
        "  countMyFurnitureInBedRoom()"
      ],
      "execution_count": 36,
      "outputs": [
        {
          "output_type": "stream",
          "text": [
            "Total chair in bedroom: 1\n",
            "Total table in bedroom: 1\n"
          ],
          "name": "stdout"
        },
        {
          "output_type": "execute_result",
          "data": {
            "text/plain": [
              "2"
            ]
          },
          "metadata": {
            "tags": []
          },
          "execution_count": 36
        }
      ]
    },
    {
      "cell_type": "code",
      "metadata": {
        "id": "Rurwx_xnArUK",
        "colab_type": "code",
        "colab": {}
      },
      "source": [
        "def borrowChairToBedroom(borrowChair):\n",
        "  bedroomChair = 1 + borrowChair\n",
        "  bedroomTable = 1\n",
        "  global chairs\n",
        "  chairs = chairs - borrowChair\n",
        "  print('Total chair in bedroom: '+str(bedroomChair))\n",
        "  print('Total table in bedroom: '+str(bedroomTable))\n",
        "  return bedroomChair+bedroomTable"
      ],
      "execution_count": 41,
      "outputs": []
    },
    {
      "cell_type": "code",
      "metadata": {
        "id": "RVC80I0SBMke",
        "colab_type": "code",
        "colab": {
          "base_uri": "https://localhost:8080/",
          "height": 68
        },
        "outputId": "8e509a6b-0ce5-4c9e-b807-ae8ab412687b"
      },
      "source": [
        "  borrowChairToBedroom(1)"
      ],
      "execution_count": 46,
      "outputs": [
        {
          "output_type": "stream",
          "text": [
            "Total chair in bedroom: 2\n",
            "Total table in bedroom: 1\n"
          ],
          "name": "stdout"
        },
        {
          "output_type": "execute_result",
          "data": {
            "text/plain": [
              "3"
            ]
          },
          "metadata": {
            "tags": []
          },
          "execution_count": 46
        }
      ]
    },
    {
      "cell_type": "code",
      "metadata": {
        "id": "45iSafeZ9Klv",
        "colab_type": "code",
        "colab": {
          "base_uri": "https://localhost:8080/",
          "height": 102
        },
        "outputId": "a28e6a1c-6d3c-4ce8-cb1c-77b91b35e7d5"
      },
      "source": [
        "print(colored('My party check list \\n','red'))\n",
        "print('Total amount of my furniture in my bedroom :' + str(borrowChairToBedroom(1)))"
      ],
      "execution_count": 44,
      "outputs": [
        {
          "output_type": "stream",
          "text": [
            "\u001b[31mMy party check list \n",
            "\u001b[0m\n",
            "Total chair in bedroom: 2\n",
            "Total table in bedroom: 1\n",
            "Total amount of my furniture in my bedroom :3\n"
          ],
          "name": "stdout"
        }
      ]
    },
    {
      "cell_type": "code",
      "metadata": {
        "id": "vFn6vkX_MXhn",
        "colab_type": "code",
        "colab": {
          "base_uri": "https://localhost:8080/",
          "height": 68
        },
        "outputId": "697c47a4-4313-41e9-fec7-00430ab74d8e"
      },
      "source": [
        "total = borrowChairToBedroom(1)+chairs+tables\n",
        "print('Total amount of my furniture:' + str(total))"
      ],
      "execution_count": 35,
      "outputs": [
        {
          "output_type": "stream",
          "text": [
            "Total chair in bedroom: 2\n",
            "Total table in bedroom: 1\n",
            "Total amount of my furniture:3\n"
          ],
          "name": "stdout"
        }
      ]
    },
    {
      "cell_type": "code",
      "metadata": {
        "id": "zM3kqdDT6L88",
        "colab_type": "code",
        "colab": {}
      },
      "source": [
        ""
      ],
      "execution_count": 24,
      "outputs": []
    }
  ]
}